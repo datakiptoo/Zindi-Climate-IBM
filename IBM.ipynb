{
 "cells": [
  {
   "cell_type": "code",
   "execution_count": 1,
   "metadata": {},
   "outputs": [],
   "source": [
    "import pandas as pd\n",
    "import numpy as np\n",
    "import zipfile\n",
    "import matplotlib.pyplot as plt\n",
    "import gc\n",
    "from statsmodels.tsa.arima.model import ARIMA\n",
    "from statsmodels.tsa.stattools import adfuller\n",
    "from sklearn.metrics import mean_absolute_error\n"
   ]
  },
  {
   "cell_type": "code",
   "execution_count": 2,
   "metadata": {},
   "outputs": [
    {
     "data": {
      "text/html": [
       "<div>\n",
       "<style scoped>\n",
       "    .dataframe tbody tr th:only-of-type {\n",
       "        vertical-align: middle;\n",
       "    }\n",
       "\n",
       "    .dataframe tbody tr th {\n",
       "        vertical-align: top;\n",
       "    }\n",
       "\n",
       "    .dataframe thead th {\n",
       "        text-align: right;\n",
       "    }\n",
       "</style>\n",
       "<table border=\"1\" class=\"dataframe\">\n",
       "  <thead>\n",
       "    <tr style=\"text-align: right;\">\n",
       "      <th></th>\n",
       "      <th>date_time</th>\n",
       "      <th>v_red</th>\n",
       "      <th>current</th>\n",
       "      <th>power_factor</th>\n",
       "      <th>kwh</th>\n",
       "      <th>Source</th>\n",
       "      <th>v_blue</th>\n",
       "      <th>v_yellow</th>\n",
       "    </tr>\n",
       "  </thead>\n",
       "  <tbody>\n",
       "    <tr>\n",
       "      <th>0</th>\n",
       "      <td>2024-07-22 18:20:00</td>\n",
       "      <td>137.65</td>\n",
       "      <td>0.08</td>\n",
       "      <td>0.72</td>\n",
       "      <td>0.000661</td>\n",
       "      <td>consumer_device_10_data_user_1</td>\n",
       "      <td>NaN</td>\n",
       "      <td>NaN</td>\n",
       "    </tr>\n",
       "    <tr>\n",
       "      <th>1</th>\n",
       "      <td>2024-07-22 18:25:00</td>\n",
       "      <td>122.82</td>\n",
       "      <td>0.08</td>\n",
       "      <td>0.73</td>\n",
       "      <td>0.000598</td>\n",
       "      <td>consumer_device_10_data_user_1</td>\n",
       "      <td>NaN</td>\n",
       "      <td>NaN</td>\n",
       "    </tr>\n",
       "    <tr>\n",
       "      <th>2</th>\n",
       "      <td>2024-07-22 18:30:00</td>\n",
       "      <td>119.70</td>\n",
       "      <td>0.08</td>\n",
       "      <td>0.74</td>\n",
       "      <td>0.000591</td>\n",
       "      <td>consumer_device_10_data_user_1</td>\n",
       "      <td>NaN</td>\n",
       "      <td>NaN</td>\n",
       "    </tr>\n",
       "    <tr>\n",
       "      <th>3</th>\n",
       "      <td>2024-07-22 18:35:00</td>\n",
       "      <td>124.53</td>\n",
       "      <td>0.08</td>\n",
       "      <td>0.75</td>\n",
       "      <td>0.000623</td>\n",
       "      <td>consumer_device_10_data_user_1</td>\n",
       "      <td>NaN</td>\n",
       "      <td>NaN</td>\n",
       "    </tr>\n",
       "    <tr>\n",
       "      <th>4</th>\n",
       "      <td>2024-07-22 18:40:00</td>\n",
       "      <td>134.84</td>\n",
       "      <td>0.08</td>\n",
       "      <td>0.74</td>\n",
       "      <td>0.000665</td>\n",
       "      <td>consumer_device_10_data_user_1</td>\n",
       "      <td>NaN</td>\n",
       "      <td>NaN</td>\n",
       "    </tr>\n",
       "  </tbody>\n",
       "</table>\n",
       "</div>"
      ],
      "text/plain": [
       "            date_time   v_red  current  power_factor       kwh  \\\n",
       "0 2024-07-22 18:20:00  137.65     0.08          0.72  0.000661   \n",
       "1 2024-07-22 18:25:00  122.82     0.08          0.73  0.000598   \n",
       "2 2024-07-22 18:30:00  119.70     0.08          0.74  0.000591   \n",
       "3 2024-07-22 18:35:00  124.53     0.08          0.75  0.000623   \n",
       "4 2024-07-22 18:40:00  134.84     0.08          0.74  0.000665   \n",
       "\n",
       "                           Source  v_blue  v_yellow  \n",
       "0  consumer_device_10_data_user_1     NaN       NaN  \n",
       "1  consumer_device_10_data_user_1     NaN       NaN  \n",
       "2  consumer_device_10_data_user_1     NaN       NaN  \n",
       "3  consumer_device_10_data_user_1     NaN       NaN  \n",
       "4  consumer_device_10_data_user_1     NaN       NaN  "
      ]
     },
     "execution_count": 2,
     "metadata": {},
     "output_type": "execute_result"
    }
   ],
   "source": [
    "#load dataset\n",
    "df = pd.read_csv(\"Data.csv\",parse_dates=[\"date_time\"])\n",
    "df.head()"
   ]
  },
  {
   "cell_type": "code",
   "execution_count": 3,
   "metadata": {},
   "outputs": [
    {
     "name": "stdout",
     "output_type": "stream",
     "text": [
      "<class 'pandas.core.frame.DataFrame'>\n",
      "RangeIndex: 17140913 entries, 0 to 17140912\n",
      "Data columns (total 8 columns):\n",
      " #   Column        Dtype         \n",
      "---  ------        -----         \n",
      " 0   date_time     datetime64[ns]\n",
      " 1   v_red         float64       \n",
      " 2   current       float64       \n",
      " 3   power_factor  float64       \n",
      " 4   kwh           float64       \n",
      " 5   Source        object        \n",
      " 6   v_blue        float64       \n",
      " 7   v_yellow      float64       \n",
      "dtypes: datetime64[ns](1), float64(6), object(1)\n",
      "memory usage: 1.0+ GB\n",
      "None\n"
     ]
    }
   ],
   "source": [
    "# Display basic info\n",
    "print(df.info())  # Check data types and missing values\n",
    "\n"
   ]
  },
  {
   "cell_type": "code",
   "execution_count": 4,
   "metadata": {},
   "outputs": [
    {
     "name": "stdout",
     "output_type": "stream",
     "text": [
      "                           date_time         v_red       current  \\\n",
      "count                       17140913  5.799428e+06  1.714091e+07   \n",
      "mean   2024-03-20 23:11:12.652286720  2.197882e+01  2.501388e-01   \n",
      "min              2023-06-24 23:45:00  0.000000e+00  0.000000e+00   \n",
      "25%              2023-12-20 14:35:00  0.000000e+00  0.000000e+00   \n",
      "50%              2024-03-25 13:45:00  0.000000e+00  0.000000e+00   \n",
      "75%              2024-06-30 04:35:00  0.000000e+00  0.000000e+00   \n",
      "max              2024-09-23 23:55:00  2.400000e+02  4.539000e+01   \n",
      "std                              NaN  5.782394e+01  1.964621e+00   \n",
      "\n",
      "       power_factor           kwh        v_blue      v_yellow  \n",
      "count  1.714091e+07  1.714091e+07  5.746850e+06  5.594635e+06  \n",
      "mean   6.709645e-02  2.491696e-03  1.851702e+01  1.834869e+01  \n",
      "min    0.000000e+00  0.000000e+00  0.000000e+00  0.000000e+00  \n",
      "25%    0.000000e+00  0.000000e+00  0.000000e+00  0.000000e+00  \n",
      "50%    0.000000e+00  0.000000e+00  0.000000e+00  0.000000e+00  \n",
      "75%    0.000000e+00  0.000000e+00  0.000000e+00  0.000000e+00  \n",
      "max    9.900000e-01  6.120541e-01  2.400000e+02  2.400000e+02  \n",
      "std    2.092425e-01  2.015925e-02  5.435857e+01  5.392861e+01  \n"
     ]
    }
   ],
   "source": [
    "print(df.describe())  # Summary statistics"
   ]
  },
  {
   "cell_type": "code",
   "execution_count": 5,
   "metadata": {},
   "outputs": [
    {
     "data": {
      "text/plain": [
       "date_time              0\n",
       "v_red           11341485\n",
       "current                0\n",
       "power_factor           0\n",
       "kwh                    0\n",
       "Source                 0\n",
       "v_blue          11394063\n",
       "v_yellow        11546278\n",
       "dtype: int64"
      ]
     },
     "execution_count": 5,
     "metadata": {},
     "output_type": "execute_result"
    }
   ],
   "source": [
    "#check missing values\n",
    "df.isnull().sum()"
   ]
  },
  {
   "cell_type": "code",
   "execution_count": 6,
   "metadata": {},
   "outputs": [],
   "source": [
    "# Count missing values per row\n",
    "df[\"missing_voltages\"] = df[[\"v_red\", \"v_blue\", \"v_yellow\"]].isnull().sum(axis=1)"
   ]
  },
  {
   "cell_type": "code",
   "execution_count": 7,
   "metadata": {},
   "outputs": [],
   "source": [
    "# Check if users with missing v_blue and v_yellow have only single-phase\n",
    "single_phase_users = df[df[\"missing_voltages\"] == 2]  # Missing v_blue and v_yellow"
   ]
  },
  {
   "cell_type": "code",
   "execution_count": 8,
   "metadata": {},
   "outputs": [
    {
     "name": "stdout",
     "output_type": "stream",
     "text": [
      "Number of single-phase users identified: 251\n"
     ]
    }
   ],
   "source": [
    "print(\"Number of single-phase users identified:\", single_phase_users[\"Source\"].nunique())"
   ]
  },
  {
   "cell_type": "code",
   "execution_count": 9,
   "metadata": {},
   "outputs": [
    {
     "name": "stdout",
     "output_type": "stream",
     "text": [
      "            date_time   v_red  current  power_factor       kwh  \\\n",
      "0 2024-07-22 18:20:00  137.65     0.08          0.72  0.000661   \n",
      "1 2024-07-22 18:25:00  122.82     0.08          0.73  0.000598   \n",
      "2 2024-07-22 18:30:00  119.70     0.08          0.74  0.000591   \n",
      "3 2024-07-22 18:35:00  124.53     0.08          0.75  0.000623   \n",
      "4 2024-07-22 18:40:00  134.84     0.08          0.74  0.000665   \n",
      "\n",
      "                           Source  v_blue  v_yellow  missing_voltages  \n",
      "0  consumer_device_10_data_user_1     NaN       NaN                 2  \n",
      "1  consumer_device_10_data_user_1     NaN       NaN                 2  \n",
      "2  consumer_device_10_data_user_1     NaN       NaN                 2  \n",
      "3  consumer_device_10_data_user_1     NaN       NaN                 2  \n",
      "4  consumer_device_10_data_user_1     NaN       NaN                 2  \n"
     ]
    }
   ],
   "source": [
    "print(single_phase_users.head())"
   ]
  },
  {
   "cell_type": "code",
   "execution_count": 10,
   "metadata": {},
   "outputs": [],
   "source": [
    "#Handling Missing Values\n",
    "# Identify single-phase users (users missing both v_blue and v_yellow)\n",
    "single_phase_users = df[df[\"missing_voltages\"] == 2][\"Source\"].unique()"
   ]
  },
  {
   "cell_type": "code",
   "execution_count": 11,
   "metadata": {},
   "outputs": [],
   "source": [
    "# Fill v_blue and v_yellow with 0 for single-phase users\n",
    "df.loc[df[\"Source\"].isin(single_phase_users), [\"v_blue\", \"v_yellow\"]] = 0"
   ]
  },
  {
   "cell_type": "code",
   "execution_count": 12,
   "metadata": {},
   "outputs": [
    {
     "name": "stderr",
     "output_type": "stream",
     "text": [
      "C:\\Users\\hp\\AppData\\Local\\Temp\\ipykernel_10380\\944574377.py:2: FutureWarning: Series.fillna with 'method' is deprecated and will raise in a future version. Use obj.ffill() or obj.bfill() instead.\n",
      "  df[\"v_red\"].fillna(method=\"ffill\", inplace=True)\n",
      "C:\\Users\\hp\\AppData\\Local\\Temp\\ipykernel_10380\\944574377.py:3: FutureWarning: Series.fillna with 'method' is deprecated and will raise in a future version. Use obj.ffill() or obj.bfill() instead.\n",
      "  df[\"v_blue\"].fillna(method=\"ffill\", inplace=True)\n",
      "C:\\Users\\hp\\AppData\\Local\\Temp\\ipykernel_10380\\944574377.py:4: FutureWarning: Series.fillna with 'method' is deprecated and will raise in a future version. Use obj.ffill() or obj.bfill() instead.\n",
      "  df[\"v_yellow\"].fillna(method=\"ffill\", inplace=True)\n"
     ]
    }
   ],
   "source": [
    "# Forward-fill missing values for three-phase users\n",
    "df[\"v_red\"].fillna(method=\"ffill\", inplace=True)\n",
    "df[\"v_blue\"].fillna(method=\"ffill\", inplace=True)\n",
    "df[\"v_yellow\"].fillna(method=\"ffill\", inplace=True)"
   ]
  },
  {
   "cell_type": "code",
   "execution_count": 13,
   "metadata": {},
   "outputs": [],
   "source": [
    "# Interpolate remaining missing values for three-phase users\n",
    "df[\"v_red\"].interpolate(method=\"linear\", inplace=True)\n",
    "df[\"v_blue\"].interpolate(method=\"linear\", inplace=True)\n",
    "df[\"v_yellow\"].interpolate(method=\"linear\", inplace=True)"
   ]
  },
  {
   "cell_type": "code",
   "execution_count": 14,
   "metadata": {},
   "outputs": [],
   "source": [
    "# Final median imputation for any remaining missing values (for robustness)\n",
    "df[\"v_red\"].fillna(df[\"v_red\"].median(), inplace=True)\n",
    "df[\"v_blue\"].fillna(df[\"v_blue\"].median(), inplace=True)\n",
    "df[\"v_yellow\"].fillna(df[\"v_yellow\"].median(), inplace=True)"
   ]
  },
  {
   "cell_type": "markdown",
   "metadata": {},
   "source": [
    "#  Exploratory Data Analysis (EDA)"
   ]
  },
  {
   "cell_type": "markdown",
   "metadata": {},
   "source": [
    "## Plot Energy Load Generation Over Time"
   ]
  },
  {
   "cell_type": "code",
   "execution_count": 15,
   "metadata": {},
   "outputs": [
    {
     "name": "stdout",
     "output_type": "stream",
     "text": [
      "['consumer_device_10_data_user_1' 'consumer_device_10_data_user_10'\n",
      " 'consumer_device_10_data_user_11' 'consumer_device_10_data_user_12'\n",
      " 'consumer_device_10_data_user_13' 'consumer_device_10_data_user_14'\n",
      " 'consumer_device_10_data_user_15' 'consumer_device_10_data_user_16'\n",
      " 'consumer_device_10_data_user_17' 'consumer_device_10_data_user_18'\n",
      " 'consumer_device_10_data_user_2' 'consumer_device_10_data_user_3'\n",
      " 'consumer_device_10_data_user_4' 'consumer_device_10_data_user_5'\n",
      " 'consumer_device_10_data_user_6' 'consumer_device_10_data_user_7'\n",
      " 'consumer_device_10_data_user_8' 'consumer_device_10_data_user_9'\n",
      " 'consumer_device_11_data_user_1' 'consumer_device_11_data_user_10'\n",
      " 'consumer_device_11_data_user_11' 'consumer_device_11_data_user_12'\n",
      " 'consumer_device_11_data_user_13' 'consumer_device_11_data_user_14'\n",
      " 'consumer_device_11_data_user_15' 'consumer_device_11_data_user_16'\n",
      " 'consumer_device_11_data_user_17' 'consumer_device_11_data_user_18'\n",
      " 'consumer_device_11_data_user_2' 'consumer_device_11_data_user_3'\n",
      " 'consumer_device_11_data_user_4' 'consumer_device_11_data_user_5'\n",
      " 'consumer_device_11_data_user_6' 'consumer_device_11_data_user_7'\n",
      " 'consumer_device_11_data_user_8' 'consumer_device_11_data_user_9'\n",
      " 'consumer_device_12_data_user_1' 'consumer_device_12_data_user_10'\n",
      " 'consumer_device_12_data_user_11' 'consumer_device_12_data_user_12'\n",
      " 'consumer_device_12_data_user_13' 'consumer_device_12_data_user_14'\n",
      " 'consumer_device_12_data_user_15' 'consumer_device_12_data_user_2'\n",
      " 'consumer_device_12_data_user_3' 'consumer_device_12_data_user_4'\n",
      " 'consumer_device_12_data_user_5' 'consumer_device_12_data_user_6'\n",
      " 'consumer_device_12_data_user_7' 'consumer_device_12_data_user_8'\n",
      " 'consumer_device_12_data_user_9' 'consumer_device_13_data_user_1'\n",
      " 'consumer_device_13_data_user_10' 'consumer_device_13_data_user_11'\n",
      " 'consumer_device_13_data_user_12' 'consumer_device_13_data_user_13'\n",
      " 'consumer_device_13_data_user_14' 'consumer_device_13_data_user_15'\n",
      " 'consumer_device_13_data_user_16' 'consumer_device_13_data_user_17'\n",
      " 'consumer_device_13_data_user_18' 'consumer_device_13_data_user_2'\n",
      " 'consumer_device_13_data_user_3' 'consumer_device_13_data_user_4'\n",
      " 'consumer_device_13_data_user_5' 'consumer_device_13_data_user_6'\n",
      " 'consumer_device_13_data_user_7' 'consumer_device_13_data_user_8'\n",
      " 'consumer_device_13_data_user_9' 'consumer_device_14_data_user_1'\n",
      " 'consumer_device_14_data_user_2' 'consumer_device_14_data_user_3'\n",
      " 'consumer_device_14_data_user_4' 'consumer_device_15_data_user_1'\n",
      " 'consumer_device_15_data_user_10' 'consumer_device_15_data_user_11'\n",
      " 'consumer_device_15_data_user_12' 'consumer_device_15_data_user_13'\n",
      " 'consumer_device_15_data_user_14' 'consumer_device_15_data_user_15'\n",
      " 'consumer_device_15_data_user_16' 'consumer_device_15_data_user_17'\n",
      " 'consumer_device_15_data_user_18' 'consumer_device_15_data_user_2'\n",
      " 'consumer_device_15_data_user_3' 'consumer_device_15_data_user_4'\n",
      " 'consumer_device_15_data_user_5' 'consumer_device_15_data_user_6'\n",
      " 'consumer_device_15_data_user_7' 'consumer_device_15_data_user_8'\n",
      " 'consumer_device_15_data_user_9' 'consumer_device_16_data_user_1'\n",
      " 'consumer_device_16_data_user_10' 'consumer_device_16_data_user_11'\n",
      " 'consumer_device_16_data_user_12' 'consumer_device_16_data_user_13'\n",
      " 'consumer_device_16_data_user_14' 'consumer_device_16_data_user_15'\n",
      " 'consumer_device_16_data_user_16' 'consumer_device_16_data_user_17'\n",
      " 'consumer_device_16_data_user_18' 'consumer_device_16_data_user_2'\n",
      " 'consumer_device_16_data_user_3' 'consumer_device_16_data_user_4'\n",
      " 'consumer_device_16_data_user_5' 'consumer_device_16_data_user_6'\n",
      " 'consumer_device_16_data_user_7' 'consumer_device_16_data_user_8'\n",
      " 'consumer_device_16_data_user_9' 'consumer_device_17_data_user_1'\n",
      " 'consumer_device_17_data_user_10' 'consumer_device_17_data_user_11'\n",
      " 'consumer_device_17_data_user_12' 'consumer_device_17_data_user_13'\n",
      " 'consumer_device_17_data_user_14' 'consumer_device_17_data_user_15'\n",
      " 'consumer_device_17_data_user_16' 'consumer_device_17_data_user_17'\n",
      " 'consumer_device_17_data_user_2' 'consumer_device_17_data_user_3'\n",
      " 'consumer_device_17_data_user_4' 'consumer_device_17_data_user_5'\n",
      " 'consumer_device_17_data_user_6' 'consumer_device_17_data_user_7'\n",
      " 'consumer_device_17_data_user_8' 'consumer_device_17_data_user_9'\n",
      " 'consumer_device_18_data_user_1' 'consumer_device_18_data_user_10'\n",
      " 'consumer_device_18_data_user_11' 'consumer_device_18_data_user_12'\n",
      " 'consumer_device_18_data_user_13' 'consumer_device_18_data_user_14'\n",
      " 'consumer_device_18_data_user_15' 'consumer_device_18_data_user_16'\n",
      " 'consumer_device_18_data_user_17' 'consumer_device_18_data_user_18'\n",
      " 'consumer_device_18_data_user_2' 'consumer_device_18_data_user_3'\n",
      " 'consumer_device_18_data_user_4' 'consumer_device_18_data_user_5'\n",
      " 'consumer_device_18_data_user_6' 'consumer_device_18_data_user_7'\n",
      " 'consumer_device_18_data_user_8' 'consumer_device_18_data_user_9'\n",
      " 'consumer_device_19_data_user_1' 'consumer_device_19_data_user_10'\n",
      " 'consumer_device_19_data_user_11' 'consumer_device_19_data_user_12'\n",
      " 'consumer_device_19_data_user_13' 'consumer_device_19_data_user_14'\n",
      " 'consumer_device_19_data_user_15' 'consumer_device_19_data_user_16'\n",
      " 'consumer_device_19_data_user_17' 'consumer_device_19_data_user_2'\n",
      " 'consumer_device_19_data_user_3' 'consumer_device_19_data_user_4'\n",
      " 'consumer_device_19_data_user_5' 'consumer_device_19_data_user_6'\n",
      " 'consumer_device_19_data_user_7' 'consumer_device_19_data_user_8'\n",
      " 'consumer_device_19_data_user_9' 'consumer_device_1_data_user_1'\n",
      " 'consumer_device_1_data_user_2' 'consumer_device_1_data_user_3'\n",
      " 'consumer_device_1_data_user_4' 'consumer_device_1_data_user_5'\n",
      " 'consumer_device_1_data_user_6' 'consumer_device_1_data_user_7'\n",
      " 'consumer_device_1_data_user_8' 'consumer_device_1_data_user_9'\n",
      " 'consumer_device_20_data_user_1' 'consumer_device_20_data_user_10'\n",
      " 'consumer_device_20_data_user_11' 'consumer_device_20_data_user_12'\n",
      " 'consumer_device_20_data_user_13' 'consumer_device_20_data_user_14'\n",
      " 'consumer_device_20_data_user_15' 'consumer_device_20_data_user_16'\n",
      " 'consumer_device_20_data_user_2' 'consumer_device_20_data_user_3'\n",
      " 'consumer_device_20_data_user_4' 'consumer_device_20_data_user_5'\n",
      " 'consumer_device_20_data_user_6' 'consumer_device_20_data_user_7'\n",
      " 'consumer_device_20_data_user_8' 'consumer_device_20_data_user_9'\n",
      " 'consumer_device_21_data_user_1' 'consumer_device_21_data_user_10'\n",
      " 'consumer_device_21_data_user_11' 'consumer_device_21_data_user_12'\n",
      " 'consumer_device_21_data_user_13' 'consumer_device_21_data_user_14'\n",
      " 'consumer_device_21_data_user_15' 'consumer_device_21_data_user_16'\n",
      " 'consumer_device_21_data_user_17' 'consumer_device_21_data_user_18'\n",
      " 'consumer_device_21_data_user_2' 'consumer_device_21_data_user_3'\n",
      " 'consumer_device_21_data_user_4' 'consumer_device_21_data_user_5'\n",
      " 'consumer_device_21_data_user_6' 'consumer_device_21_data_user_7'\n",
      " 'consumer_device_21_data_user_8' 'consumer_device_21_data_user_9'\n",
      " 'consumer_device_22_data_user_1' 'consumer_device_22_data_user_10'\n",
      " 'consumer_device_22_data_user_11' 'consumer_device_22_data_user_12'\n",
      " 'consumer_device_22_data_user_13' 'consumer_device_22_data_user_14'\n",
      " 'consumer_device_22_data_user_15' 'consumer_device_22_data_user_2'\n",
      " 'consumer_device_22_data_user_3' 'consumer_device_22_data_user_4'\n",
      " 'consumer_device_22_data_user_5' 'consumer_device_22_data_user_6'\n",
      " 'consumer_device_22_data_user_7' 'consumer_device_22_data_user_8'\n",
      " 'consumer_device_22_data_user_9' 'consumer_device_23_data_user_1'\n",
      " 'consumer_device_23_data_user_2' 'consumer_device_23_data_user_3'\n",
      " 'consumer_device_23_data_user_4' 'consumer_device_23_data_user_5'\n",
      " 'consumer_device_24_data_user_1' 'consumer_device_24_data_user_10'\n",
      " 'consumer_device_24_data_user_11' 'consumer_device_24_data_user_12'\n",
      " 'consumer_device_24_data_user_13' 'consumer_device_24_data_user_14'\n",
      " 'consumer_device_24_data_user_15' 'consumer_device_24_data_user_2'\n",
      " 'consumer_device_24_data_user_3' 'consumer_device_24_data_user_4'\n",
      " 'consumer_device_24_data_user_5' 'consumer_device_24_data_user_6'\n",
      " 'consumer_device_24_data_user_7' 'consumer_device_24_data_user_8'\n",
      " 'consumer_device_24_data_user_9' 'consumer_device_25_data_user_1'\n",
      " 'consumer_device_25_data_user_10' 'consumer_device_25_data_user_11'\n",
      " 'consumer_device_25_data_user_12' 'consumer_device_25_data_user_13'\n",
      " 'consumer_device_25_data_user_14' 'consumer_device_25_data_user_15'\n",
      " 'consumer_device_25_data_user_16' 'consumer_device_25_data_user_17'\n",
      " 'consumer_device_25_data_user_18' 'consumer_device_25_data_user_2'\n",
      " 'consumer_device_25_data_user_3']\n"
     ]
    }
   ],
   "source": [
    "# Check unique values in categorical columns (if any)\n",
    "print(df[\"Source\"].unique())  # Checking different sources of power consumption"
   ]
  },
  {
   "cell_type": "markdown",
   "metadata": {},
   "source": [
    "Checking for Outliers\n",
    "To detect unusual voltage, current, and kWh values, we can use boxplots:"
   ]
  },
  {
   "cell_type": "code",
   "execution_count": 16,
   "metadata": {},
   "outputs": [
    {
     "data": {
      "image/png": "[encoded data removed]",
      "text/plain": [
       "<Figure size 1200x500 with 1 Axes>"
      ]
     },
     "metadata": {},
     "output_type": "display_data"
    }
   ],
   "source": [
    "import seaborn as sns\n",
    "plt.figure(figsize=(12, 5))\n",
    "sns.boxplot(data=df[[\"v_red\", \"v_blue\", \"v_yellow\", \"current\", \"power_factor\", \"kwh\"]])\n",
    "plt.title(\"Boxplot of Key Numerical Features\")\n",
    "plt.show()\n"
   ]
  },
  {
   "cell_type": "markdown",
   "metadata": {},
   "source": [
    "Visualizing Energy Consumption Trends"
   ]
  },
  {
   "cell_type": "code",
   "execution_count": 17,
   "metadata": {},
   "outputs": [
    {
     "data": {
      "image/png": "[encoded data removed]",
      "text/plain": [
       "<Figure size 1200x500 with 1 Axes>"
      ]
     },
     "metadata": {},
     "output_type": "display_data"
    }
   ],
   "source": [
    "df[\"te_time\"] = pd.to_datetime(df[\"date_time\"])  # Ensure te_time is in datetime format\n",
    "df.set_index(\"te_time\", inplace=True)\n",
    "\n",
    "# Plot total energy consumption per day\n",
    "df.resample(\"D\")[\"kwh\"].sum().plot(figsize=(12, 5), title=\"Daily Energy Consumption (kWh)\", linewidth=2)\n",
    "plt.xlabel(\"Date\")\n",
    "plt.ylabel(\"Total kWh\")\n",
    "plt.show()\n"
   ]
  }
 ],
 "metadata": {
  "kernelspec": {
   "display_name": "myenv",
   "language": "python",
   "name": "python3"
  },
  "language_info": {
   "codemirror_mode": {
    "name": "ipython",
    "version": 3
   },
   "file_extension": ".py",
   "mimetype": "text/x-python",
   "name": "python",
   "nbconvert_exporter": "python",
   "pygments_lexer": "ipython3",
   "version": "3.9.16"
  }
 },
 "nbformat": 4,
 "nbformat_minor": 2
}
